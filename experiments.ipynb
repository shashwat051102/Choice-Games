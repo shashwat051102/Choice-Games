{
 "cells": [
  {
   "cell_type": "code",
   "execution_count": 1,
   "id": "3ce8439f",
   "metadata": {},
   "outputs": [],
   "source": [
    "from crewai import Agent\n",
    "from dotenv import load_dotenv\n",
    "from langchain_groq import ChatGroq\n",
    "from langchain_openai import ChatOpenAI\n",
    "import openai\n",
    "\n",
    "import os\n",
    "\n",
    "load_dotenv()\n",
    "# api_key = os.getenv(\"GROQ_API_KEY\")\n",
    "# llm = ChatGroq(api_key=api_key, model=\"groq/llama-3.3-70b-versatile\")\n",
    "\n",
    "api_key = os.getenv(\"OPENAI_API_KEY\")\n",
    "\n",
    "if not api_key:\n",
    "    raise ValueError(\"OpenAI API key not found in environment variables.\")\n",
    "\n",
    "openai.api_key = api_key\n",
    "llm = ChatOpenAI(api_key=api_key, model=\"gpt-4.1-mini\")\n",
    "\n",
    "Story_agent = Agent(\n",
    "    role=\"Story_agent\",\n",
    "    goal=\"Create a initial story based on the user {prompt} and give choices to continue the story and with respect to use choices generate further story and choices.\",\n",
    "    llm=llm,\n",
    "    backstory=\"User is a writer who wants to create a story. The story should be engaging and interactive, allowing the user to make choices that influence the direction of the narrative.\",\n",
    "    memory=None,\n",
    "    verbose=True,\n",
    ")"
   ]
  },
  {
   "cell_type": "code",
   "execution_count": 2,
   "id": "e2b3cdc3",
   "metadata": {},
   "outputs": [],
   "source": [
    "from crewai import Task\n",
    "\n",
    "\n",
    "\n",
    "Story_task = Task(\n",
    "    description=\"\"\"\n",
    "    User is a writer who wants to create a story. The story should be engaging and interactive, allowing the user to make choices that influence the direction of the narrative.\n",
    "    The task is to create an initial story based on the user input and provide choices to continue the story. With respect to the user's choices, generate further story segments and choices.\n",
    "    Based on User's {prompt}, create an initial story and provide choices to continue the story. With respect to the user's choices, generate further story segments and choices.\n",
    "    \n",
    "    \n",
    "    \"\"\",\n",
    "    expected_output=\"A story with choices for the user to continue the narrative.\",\n",
    "    agent=Story_agent,\n",
    "    input_variable=\"prompt\",\n",
    ")"
   ]
  },
  {
   "cell_type": "code",
   "execution_count": null,
   "id": "67ceca69",
   "metadata": {},
   "outputs": [],
   "source": []
  }
 ],
 "metadata": {
  "kernelspec": {
   "display_name": "Python 3",
   "language": "python",
   "name": "python3"
  },
  "language_info": {
   "codemirror_mode": {
    "name": "ipython",
    "version": 3
   },
   "file_extension": ".py",
   "mimetype": "text/x-python",
   "name": "python",
   "nbconvert_exporter": "python",
   "pygments_lexer": "ipython3",
   "version": "3.11.9"
  }
 },
 "nbformat": 4,
 "nbformat_minor": 5
}
